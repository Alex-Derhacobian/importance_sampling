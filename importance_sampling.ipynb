{
 "cells": [
  {
   "cell_type": "code",
   "execution_count": 926,
   "metadata": {},
   "outputs": [],
   "source": [
    "import os\n",
    "import numpy as np\n",
    "import pandas as pd\n",
    "from scipy.stats import norm\n",
    "import matplotlib.pyplot as plt"
   ]
  },
  {
   "cell_type": "code",
   "execution_count": 927,
   "metadata": {},
   "outputs": [],
   "source": [
    "def gen_h_vals(threshold, scores):\n",
    "    n = scores.shape[0]\n",
    "    h_vals = np.zeros((n))\n",
    "    for i in range(n):\n",
    "        if scores[i]>threshold:\n",
    "            h_vals[i] = 1\n",
    "    return h_vals"
   ]
  },
  {
   "cell_type": "code",
   "execution_count": 967,
   "metadata": {},
   "outputs": [],
   "source": [
    "n = 1000\n",
    "threshold = 3\n",
    "stand_norm = np.random.normal(0,1,size = (n,))\n",
    "h_vals = gen_h_vals(threshold, stand_norm)\n",
    "for i in range(n):\n",
    "    if stand_norm[i]>threshold:\n",
    "        h_vals[i] = 1"
   ]
  },
  {
   "cell_type": "code",
   "execution_count": 968,
   "metadata": {},
   "outputs": [
    {
     "data": {
      "text/plain": [
       "(0.002, 0.001996)"
      ]
     },
     "execution_count": 968,
     "metadata": {},
     "output_type": "execute_result"
    }
   ],
   "source": [
    "mu_no_is = np.mean(h_vals)\n",
    "var_no_is = np.mean(h_vals**2) - mu_no_is**2\n",
    "mu_no_is, var_no_is"
   ]
  },
  {
   "cell_type": "code",
   "execution_count": 969,
   "metadata": {},
   "outputs": [
    {
     "data": {
      "text/plain": [
       "(0.0012559419383181615, 8.639811297773685e-06)"
      ]
     },
     "execution_count": 969,
     "metadata": {},
     "output_type": "execute_result"
    }
   ],
   "source": [
    "new_norm = np.random.normal(4,1,size = (n,))\n",
    "n = 1000\n",
    "threshold = 3\n",
    "f_vals = norm.pdf(new_norm, 0, 1)\n",
    "g_vals = norm.pdf(new_norm, 4, 1)\n",
    "h_vals = gen_h_vals(threshold, new_norm)\n",
    "        \n",
    "mu_is = np.mean((h_vals*f_vals)/g_vals)\n",
    "var_is = np.mean(((h_vals*f_vals)/g_vals)**2) - mu_is**2\n",
    "mu_is, var_is"
   ]
  },
  {
   "cell_type": "code",
   "execution_count": 919,
   "metadata": {},
   "outputs": [
    {
     "name": "stderr",
     "output_type": "stream",
     "text": [
      "/Users/alexderhacobian/anaconda3/lib/python3.8/site-packages/IPython/core/interactiveshell.py:3146: DtypeWarning: Columns (3,4,5,6,12) have mixed types.Specify dtype option on import or set low_memory=False.\n",
      "  has_raised = await self.run_ast_nodes(code_ast.body, cell_name,\n"
     ]
    },
    {
     "data": {
      "text/plain": [
       "(0.01524, 0.0150077424)"
      ]
     },
     "execution_count": 919,
     "metadata": {},
     "output_type": "execute_result"
    },
    {
     "data": {
      "image/png": "[encoded data removed]",
      "text/plain": [
       "<Figure size 432x288 with 1 Axes>"
      ]
     },
     "metadata": {
      "needs_background": "light"
     },
     "output_type": "display_data"
    }
   ],
   "source": [
    "salaries_df = pd.read_csv('salaries.csv')\n",
    "vald_thresh = 10000\n",
    "salaries_df = salaries_df[salaries_df['TotalPay'] > vald_thresh]\n",
    "salaries_df = salaries_df.reindex(columns = ['TotalPay'])\n",
    "\n",
    "\n",
    "\n",
    "pay = np.asarray(salaries_df['TotalPay'])\n",
    "plt.hist(pay)\n",
    "total_num = len(pay)\n",
    "num_samples = 50000\n",
    "ppl = np.random.randint(0,total_num, num_samples)\n",
    "samples = pay[ppl]\n",
    "#samples = pay[ppl]\n",
    "threshold = 200000\n",
    "#NAIVE METHOD\n",
    "h_vals = gen_h_vals(threshold, samples)\n",
    "mu_no_is = np.mean(h_vals)\n",
    "var_no_is = np.mean(h_vals**2) - mu_no_is**2\n",
    "mu_no_is, var_no_is"
   ]
  },
  {
   "cell_type": "code",
   "execution_count": 628,
   "metadata": {},
   "outputs": [],
   "source": [
    "#IMPORTANCE SAMPLING\n",
    "f_vals = norm.pdf(new_norm, 0, 1)\n",
    "g_vals = norm.pdf(new_norm, 4, 1)\n",
    "h_vals = np.zeros((n))"
   ]
  },
  {
   "cell_type": "code",
   "execution_count": 790,
   "metadata": {},
   "outputs": [],
   "source": [
    "def generate_pdf(salaries, per_bin):\n",
    "    valid_thresh = 1000\n",
    "    buffer = 5\n",
    "    salaries = np.sort(salaries)\n",
    "    groups = [tuple([i, i + per_bin]) for i in range(valid_thresh, int(salaries[-1])+buffer, per_bin)]\n",
    "    \n",
    "    probs = {}\n",
    "    for group in groups:\n",
    "        probs[group] = len(np.where(np.logical_and(salaries>=group[0], salaries<group[1]))[0])/len(salaries)\n",
    "    return groups, probs"
   ]
  },
  {
   "cell_type": "code",
   "execution_count": 912,
   "metadata": {},
   "outputs": [],
   "source": [
    "per_bin = 100\n",
    "groups, p_vals = generate_pdf(samples, per_bin)"
   ]
  },
  {
   "cell_type": "code",
   "execution_count": 913,
   "metadata": {},
   "outputs": [],
   "source": [
    "def pdf(val, groups, probs):\n",
    "    for group in groups:\n",
    "        if (val<group[1] and val>=group[0]):\n",
    "            return probs[group]"
   ]
  },
  {
   "cell_type": "code",
   "execution_count": 924,
   "metadata": {},
   "outputs": [
    {
     "name": "stdout",
     "output_type": "stream",
     "text": [
      "0.0021000000000000003\n"
     ]
    },
    {
     "data": {
      "text/plain": [
       "(0.01172814156243778, 0.004867321593145151)"
      ]
     },
     "execution_count": 924,
     "metadata": {},
     "output_type": "execute_result"
    }
   ],
   "source": [
    "samples = np.sort(pay[ppl])\n",
    "f_vals = [pdf(val, groups, p_vals) for val in np.sort(samples)]\n",
    "mean = 400000\n",
    "num_samples = 1000\n",
    "threshhold = 200000\n",
    "new_norm = np.random.normal(300000, 1000, size=(num_samples))\n",
    "g_vals = norm.pdf(new_norm, 300000, 1000)\n",
    "f_vals = [pdf(val, groups, p_vals) for val in new_norm]\n",
    "print(np.sum(f_vals))\n",
    "h_vals = gen_h_vals(threshhold, new_norm)\n",
    "mu_im = np.mean((h_vals*f_vals)/g_vals, axis=0)\n",
    "var_im = np.mean(((h_vals*f_vals)/g_vals)**2, axis=0) - mu_im**2\n",
    "mu_im, var_im"
   ]
  },
  {
   "cell_type": "code",
   "execution_count": null,
   "metadata": {},
   "outputs": [],
   "source": []
  }
 ],
 "metadata": {
  "kernelspec": {
   "display_name": "Python 3",
   "language": "python",
   "name": "python3"
  },
  "language_info": {
   "codemirror_mode": {
    "name": "ipython",
    "version": 3
   },
   "file_extension": ".py",
   "mimetype": "text/x-python",
   "name": "python",
   "nbconvert_exporter": "python",
   "pygments_lexer": "ipython3",
   "version": "3.8.5"
  }
 },
 "nbformat": 4,
 "nbformat_minor": 4
}
